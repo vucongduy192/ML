{
 "cells": [
  {
   "cell_type": "markdown",
   "metadata": {},
   "source": [
    "## GAN Basic"
   ]
  },
  {
   "cell_type": "markdown",
   "metadata": {},
   "source": [
    "### I. What is Generative Adversarial Networks GAN"
   ]
  },
  {
   "cell_type": "markdown",
   "metadata": {},
   "source": [
    "#### 1. Trọng tâm chính của GAN: \n",
    "Là tạo dữ liệu, chủ yếu là hình ảnh(các lĩnh vực khác bao gồm cả âm nhạc đã được thực hiện.)\n",
    "\n",
    "#### 2. Generator and discriminator:\n",
    "GAN bao gồm 2 deep networks, mạng **Generator** và mạng **Discriminator** (phân loại). Trong khi Generator sinh ra các dữ liệu giống như thật thì Discriminator cố gắng phân biệt đâu là dữ liệu được sinh ra từ Generator và đâu là dữ liệu thật có. "
   ]
  },
  {
   "cell_type": "markdown",
   "metadata": {},
   "source": [
    "**a. Generator**\n",
    "- Trước tiên, thực hiện sample noise z từ normal hay uniform distribution, coi z là đầu vào, sử dụng mạng Generator để tạo image x = G(z). \n",
    "- Đầu vào z đại diện cho các latent features của generated images, chẳng hạn như màu sắc, hình dạng.\n",
    "- Trong mạng classification thông thường, không thể  tự điều chỉnh các features mà mô hình đang học. Thì tương tự, trong GAN, cx ko thể  tự điều chỉnh các latent features của z. Mà sẽ để quá trình training tự học nó.\n",
    "- **Tại sao input là noise? Vì các đối tượng trong image không hoàn toàn giống nhau. Thế nên input của Generator là noise để khi ta thay đổi noise ngẫu nhiên thì Generator có thể sinh ra một biến dạng khác đối tượng. Noise cho Generator thường được sinh ra từ normal distribution hoặc uniform distribution.**\n"
   ]
  },
  {
   "attachments": {},
   "cell_type": "markdown",
   "metadata": {},
   "source": [
    "<img src=\"./images/Generator_example.png\">"
   ]
  },
  {
   "cell_type": "markdown",
   "metadata": {},
   "source": [
    "**Mạng Generator sinh ngẫu nhiên ảnh ntn ?** \n",
    "\n",
    "Hình bên dưới là DCGAN (Deep Convolution GAN), một trong những kiến trúc phổ biến nhất cho mạng Generator. Generator sử dụng nhiều layer transposed convolutions để upample z và tạo hình ảnh x. Mô hình giống như mô hình classification theo hướng ngược lại."
   ]
  },
  {
   "attachments": {},
   "cell_type": "markdown",
   "metadata": {},
   "source": [
    "<img src=\"./images/Generator_architecture.png\">"
   ]
  },
  {
   "cell_type": "markdown",
   "metadata": {},
   "source": [
    "#### b. Discriminator"
   ]
  },
  {
   "cell_type": "markdown",
   "metadata": {},
   "source": [
    "Nếu chỉ sử dụng Generator thì chỉ đơn thuần tạo ra các random noise. Do đó cần sử dụng thêm mạng Discriminator trong GAN như 1 định hướng cho mạng Generator: 「cần phải tạo ảnh ntn」.\n",
    "\n",
    "Bằng cách training sử dụng cả real images and generated images, GAN xây dựng mạng Discriminator để học xem những features nào có thể  tạo ra real images."
   ]
  },
  {
   "attachments": {},
   "cell_type": "markdown",
   "metadata": {},
   "source": [
    "<img src=\"./images/GAN_intro.png\">"
   ]
  },
  {
   "cell_type": "markdown",
   "metadata": {},
   "source": [
    "We train the discriminator just like a deep network classifier. If the input is real, we want D(x)=1. If it is generated, it should be zero. Through this process, the discriminator identifies features that contribute to real images."
   ]
  }
 ],
 "metadata": {
  "kernelspec": {
   "display_name": "Python 3",
   "language": "python",
   "name": "python3"
  },
  "language_info": {
   "codemirror_mode": {
    "name": "ipython",
    "version": 3
   },
   "file_extension": ".py",
   "mimetype": "text/x-python",
   "name": "python",
   "nbconvert_exporter": "python",
   "pygments_lexer": "ipython3",
   "version": "3.6.8"
  }
 },
 "nbformat": 4,
 "nbformat_minor": 2
}
