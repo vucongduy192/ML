{
 "cells": [
  {
   "cell_type": "markdown",
   "metadata": {},
   "source": [
    "## Stochastic && Mini-batch Gradient Descent"
   ]
  },
  {
   "cell_type": "markdown",
   "metadata": {},
   "source": [
    "Hàm mất mát J(θ) (θ là tập hợp các tham số của mô hình)\n",
    "\n",
    "**Thuật toán Gradient Descent:**\n",
    "1. Dự đoán một điểm khởi tạo: θ = θ*\n",
    "2. Cập nhật θ đến khi đạt được kết quả chấp nhận được: θ = θ − η*∇J(θ)\n",
    "\n",
    "**Thuật toán Stochastic Gradient Descent:**\n",
    "Khi cập nhật θ theo GD, chúng ta sử dụng tất cả các điểm dữ liệu xi. Do \n",
    "đó gặp hạn chế đối với cơ sở dữ liệu có vô cùng nhiều điểm.\n",
    "\n",
    "Trong thuật toán SGD, tại 1 thời điểm, ta chỉ tính đạo hàm của hàm mất mát \n",
    "dựa trên chỉ một điểm dữ liệu xi rồi cập nhật θ.\n",
    "Việc này được thực hiện với từng điểm trên toàn bộ dữ liệu, sau đó lặp lại \n",
    "quá trình trên. \n",
    "\n",
    "Mỗi lần duyệt một lượt qua tất cả các điểm trên toàn bộ dữ liệu được gọi là \n",
    "một epoch. Với GD thông thường thì mỗi epoch ứng với 1 lần cập nhật \n",
    "θ, với SGD thì mỗi epoch ứng với N lần cập nhật θ với N là số điểm dữ liệu.\n",
    "\n",
    "**Lưu ý**: sau mỗi epoch, chúng ta cần shuffle (xáo trộn) thứ tự của các dữ \n",
    "liệu để đảm bảo tính ngẫu nhiên.\n",
    "\n",
    "**Thuật toán Mini-batch Gradient Descent:**\n",
    "Khác với SGD, mini-batch sử dụng một số lượng n lớn hơn 1 (nhưng vẫn nhỏ hơn tổng số dữ liệu N rất nhiều). Giống với SGD, Mini-batch Gradient Descent bắt đầu mỗi epoch bằng việc xáo trộn ngẫu nhiên dữ liệu rồi chia toàn bộ dữ liệu thành các mini-batch, mỗi mini-batch có n điểm dữ liệu (trừ mini-batch cuối có thể có ít hơn nếu N không chia hết cho n). Mỗi lần cập nhật, thuật toán này lấy ra một mini-batch để tính toán đạo hàm rồi cập nhật. "
   ]
  },
  {
   "attachments": {},
   "cell_type": "markdown",
   "metadata": {},
   "source": [
    "## Perceptron && sigmoid\n",
    "\n",
    "Perceptron là thành phần cơ bản nhất cửa mạng Neural\n",
    "<img src=\"images/image1.png\">\n",
    "Kết quả đầu ra là 1 nếu \"tổng trọng số đầu vào 入力\" lớn hơn hoặc bằng một ngưỡng (threshold) thích hợp và 0 nếu ngược lại."
   ]
  },
  {
   "attachments": {},
   "cell_type": "markdown",
   "metadata": {},
   "source": [
    "<img src=\"images/image2.png\">"
   ]
  },
  {
   "attachments": {},
   "cell_type": "markdown",
   "metadata": {},
   "source": [
    "Perceptron learning algorithm (PLA) là một thuật toán đơn giản giúp tìm một ranh giới siêu phẳng cho bài toán phân lớp nhị phân, với giả sử rằng tồn tại ranh giới phẳng đó. Nếu hai lớp dữ liệu có thể được phân chia hoàn toàn bằng một siêu phẳng, ta nói rằng hai lớp đó linearly separable.\n",
    "<img src=\"images/image3.png\">"
   ]
  },
  {
   "attachments": {},
   "cell_type": "markdown",
   "metadata": {},
   "source": [
    "Tuy nhiên chỉ sử dụng 1 perceptron thì không thể được thể hiện tốt cho các vấn đề không thể được phân tách tuyến tính. Chẳng hạn bài toán XOR\n",
    "<img src=\"images/image4.png\">"
   ]
  },
  {
   "cell_type": "markdown",
   "metadata": {},
   "source": [
    "## MultiLayer Perceptron"
   ]
  },
  {
   "attachments": {},
   "cell_type": "markdown",
   "metadata": {},
   "source": [
    "<img src=\"images/image5.png\">"
   ]
  },
  {
   "attachments": {},
   "cell_type": "markdown",
   "metadata": {},
   "source": [
    "Hàm sgn (còn gọi là hard-threshold) đóng vai trò là một activation function.Dữ liệu đầu vào được đặt vào input layer, lấy tổng có trọng số lưu vào biến z rồi đi qua hàm kích hoạt để có kết quả ở y. Đây chính là một dạng đơn giản nhất của neural network. \n",
    "\n",
    "Nếu f(z)=z thì neural network sẽ mô tả linear regression. Trong thực tế, hàm sgn không được sử dụng vì hai lý do: đầu ra là discrete, và đạo hàm tại hầu hết các điểm bằng 0 (trừ điểm 0 không có đạo hàm). Việc đạo hàm bằng 0 này khiến cho các thuật toán gradient-based (ví dụ như Gradient Descent) không hoạt động!\n",
    "\n",
    "Đối với những bài toán phân lớp nhị phân, đầu ra có thể biểu diễn dưới dạng xác suất thay vì -1 hoặc 1 như là trong PLA. Những bài toán đó được gọi là **logistic regression**. Những yếu tố quan trọng cần có đối với activation funciton trong bài toán này:\n",
    "    - Là Hàm số liên tục, nhận giá trị bị chặn trong khoảng (0,1)\n",
    "    - Xét 1 giá trị nằm trong khoảng (0,1) là ngưỡng, những giá trị nằm càng xa ngưỡng về bên trái thì gần 0, và ngược lại, càng xa ngưỡng về bên phải sẽ gần 1. \n",
    "    - Có đạo hàm tại mọi điểm, phù hợp cho việc tính đạo hàm để tối ưu.\n",
    "Hàm sigmoid là hàm số thỏa mãn các yếu tố nói trên.\n",
    "<img src=\"images/image6.png\">"
   ]
  },
  {
   "attachments": {},
   "cell_type": "markdown",
   "metadata": {},
   "source": [
    "## Feed forward neural network\n",
    "\n",
    "<img src=\"images/image7.png\">"
   ]
  },
  {
   "cell_type": "markdown",
   "metadata": {},
   "source": [
    "Mạng nơ-ron lan truyền xuôi là một mạng trong đó các nơ-ron được sắp xếp theo lớp(Layer) và chỉ được kết nối giữa các lớp liền kề. Feed forward neural network được hiểu là dữ liệu đi theo chiều xuôi từ đầu theo hướng mũi tên và không quay lại, neural network đó sẽ có dạng là acyclic graph - đồ thị không khép kín. \n"
   ]
  },
  {
   "cell_type": "markdown",
   "metadata": {},
   "source": [
    "# ------------------------------------------------------------------------------------------------------------"
   ]
  },
  {
   "cell_type": "markdown",
   "metadata": {},
   "source": [
    "# ML basic with Keras"
   ]
  },
  {
   "cell_type": "markdown",
   "metadata": {},
   "source": [
    "Load và xử lý dữ liệu đầu vào"
   ]
  },
  {
   "cell_type": "code",
   "execution_count": 19,
   "metadata": {},
   "outputs": [],
   "source": [
    "from __future__ import absolute_import, division, print_function, unicode_literals\n",
    "try:\n",
    "  # %tensorflow_version only exists in Colab.\n",
    "  %tensorflow_version 2.x\n",
    "except Exception:\n",
    "  pass\n",
    "\n",
    "# TensorFlow and tf.keras\n",
    "import tensorflow as tf\n",
    "from tensorflow import keras\n",
    "\n",
    "# Helper libraries\n",
    "import numpy as np\n",
    "import matplotlib.pyplot as plt"
   ]
  },
  {
   "cell_type": "code",
   "execution_count": 3,
   "metadata": {},
   "outputs": [],
   "source": [
    "fashion_mnist = keras.datasets.fashion_mnist\n",
    "(train_images, train_labels), (test_images, test_labels) = fashion_mnist.load_data()\n",
    "\n",
    "class_names = ['T-shirt/top', 'Trouser', 'Pullover', 'Dress', 'Coat',\n",
    "               'Sandal', 'Shirt', 'Sneaker', 'Bag', 'Ankle boot']\n",
    "\n",
    "train_images = train_images / 255.0\n",
    "test_images = test_images / 255.0"
   ]
  },
  {
   "cell_type": "markdown",
   "metadata": {},
   "source": [
    "Xây dựng model, bao gồm việc config các layer neural network của model.\n",
    "\n",
    "Sử dụng Sequential API để tạo ra model Keras đơn giản nhất Sequential - một mạng NN chỉ gồm các layer kết nối tuần tự\n",
    "\n",
    "Tạo layer Flatten trong model để trải phẳng hình ảnh 28x28 pixel thành mảng 1 chiều 784 phần tử\n",
    "\n",
    "Layer Dense được sử dụng như một fully connected layer neural network với các tham số: \n",
    "1. units: số chiều output\n",
    "2. activation: chọn activation\n",
    "3. ..."
   ]
  },
  {
   "attachments": {},
   "cell_type": "markdown",
   "metadata": {},
   "source": [
    "Cấu trúc Regression MLPs cơ bản\n",
    "<img src=\"images/image8.png\">"
   ]
  },
  {
   "attachments": {},
   "cell_type": "markdown",
   "metadata": {},
   "source": [
    "Cấu trúc Classification MLPs cơ bản\n",
    "<img src=\"images/image9.png\">"
   ]
  },
  {
   "attachments": {},
   "cell_type": "markdown",
   "metadata": {},
   "source": [
    "<img src=\"images/image10.png\">"
   ]
  },
  {
   "cell_type": "code",
   "execution_count": 4,
   "metadata": {},
   "outputs": [],
   "source": [
    "model = keras.Sequential([\n",
    "    keras.layers.Flatten(input_shape=(28, 28)),\n",
    "    keras.layers.Dense(128, activation='relu'),\n",
    "    keras.layers.Dense(10, activation='softmax')\n",
    "])"
   ]
  },
  {
   "cell_type": "markdown",
   "metadata": {},
   "source": [
    "Compile model\n",
    "\n",
    "Config các tham số :\n",
    "* Loss function\n",
    "* Optmizer\n",
    "* Metrics"
   ]
  },
  {
   "cell_type": "code",
   "execution_count": 8,
   "metadata": {},
   "outputs": [],
   "source": [
    "model.compile(optimizer='adam',\n",
    "              loss='sparse_categorical_crossentropy',\n",
    "              metrics=['accuracy'])"
   ]
  },
  {
   "cell_type": "markdown",
   "metadata": {},
   "source": [
    "Tiến hành train model "
   ]
  },
  {
   "cell_type": "code",
   "execution_count": 9,
   "metadata": {},
   "outputs": [
    {
     "name": "stdout",
     "output_type": "stream",
     "text": [
      "WARNING:tensorflow:From /home/ngocptm/.local/lib/python3.6/site-packages/tensorflow/python/ops/math_grad.py:1250: add_dispatch_support.<locals>.wrapper (from tensorflow.python.ops.array_ops) is deprecated and will be removed in a future version.\n",
      "Instructions for updating:\n",
      "Use tf.where in 2.0, which has the same broadcast rule as np.where\n",
      "Train on 60000 samples\n",
      "Epoch 1/10\n",
      "60000/60000 [==============================] - 6s 97us/sample - loss: 0.4945 - accuracy: 0.8259\n",
      "Epoch 2/10\n",
      "60000/60000 [==============================] - 6s 103us/sample - loss: 0.3697 - accuracy: 0.8680\n",
      "Epoch 3/10\n",
      "60000/60000 [==============================] - 5s 85us/sample - loss: 0.3337 - accuracy: 0.8787\n",
      "Epoch 4/10\n",
      "60000/60000 [==============================] - 6s 96us/sample - loss: 0.3105 - accuracy: 0.8856\n",
      "Epoch 5/10\n",
      "60000/60000 [==============================] - 6s 104us/sample - loss: 0.2923 - accuracy: 0.8923\n",
      "Epoch 6/10\n",
      "60000/60000 [==============================] - 5s 86us/sample - loss: 0.2780 - accuracy: 0.8968\n",
      "Epoch 7/10\n",
      "60000/60000 [==============================] - 6s 107us/sample - loss: 0.2662 - accuracy: 0.9006\n",
      "Epoch 8/10\n",
      "60000/60000 [==============================] - 6s 92us/sample - loss: 0.2546 - accuracy: 0.9050\n",
      "Epoch 9/10\n",
      "60000/60000 [==============================] - 6s 105us/sample - loss: 0.2468 - accuracy: 0.9066\n",
      "Epoch 10/10\n",
      "60000/60000 [==============================] - 6s 101us/sample - loss: 0.2373 - accuracy: 0.9118\n"
     ]
    },
    {
     "data": {
      "text/plain": [
       "<tensorflow.python.keras.callbacks.History at 0x7f6110dd0320>"
      ]
     },
     "execution_count": 9,
     "metadata": {},
     "output_type": "execute_result"
    }
   ],
   "source": [
    "model.fit(train_images, train_labels, epochs=10)"
   ]
  },
  {
   "cell_type": "markdown",
   "metadata": {},
   "source": [
    "Đánh giá độ chính xác của model và sử dụng model"
   ]
  },
  {
   "cell_type": "markdown",
   "metadata": {},
   "source": [
    "# ------------------------------------------------ ------------------------------------------------"
   ]
  },
  {
   "cell_type": "markdown",
   "metadata": {},
   "source": [
    "# Text classification"
   ]
  },
  {
   "cell_type": "code",
   "execution_count": 11,
   "metadata": {},
   "outputs": [
    {
     "name": "stdout",
     "output_type": "stream",
     "text": [
      "2.0.0-beta1\n"
     ]
    }
   ],
   "source": [
    "import tensorflow_datasets as tfds\n",
    "tfds.disable_progress_bar()\n",
    "print(tf.__version__)"
   ]
  },
  {
   "cell_type": "markdown",
   "metadata": {},
   "source": [
    "Load và tiền xử lý dữ liệu"
   ]
  },
  {
   "cell_type": "code",
   "execution_count": 12,
   "metadata": {},
   "outputs": [],
   "source": [
    "(train_data, test_data), info = tfds.load(\n",
    "    # Use the version pre-encoded with an ~8k vocabulary.\n",
    "    'imdb_reviews/subwords8k', \n",
    "    # Return the train/test datasets as a tuple.\n",
    "    split = (tfds.Split.TRAIN, tfds.Split.TEST),\n",
    "    # Return (example, label) pairs from the dataset (instead of a dictionary).\n",
    "    as_supervised=True,\n",
    "    # Also return the `info` structure. \n",
    "    with_info=True)"
   ]
  },
  {
   "cell_type": "code",
   "execution_count": 25,
   "metadata": {},
   "outputs": [],
   "source": [
    "encoder = info.features['text'].encoder"
   ]
  },
  {
   "cell_type": "code",
   "execution_count": 26,
   "metadata": {},
   "outputs": [],
   "source": [
    "BUFFER_SIZE = 1000\n",
    "\n",
    "train_batches = (\n",
    "    train_data\n",
    "    .shuffle(BUFFER_SIZE)\n",
    "    .padded_batch(32, tf.compat.v1.data.get_output_shapes(train_data)))\n",
    "\n",
    "test_batches = (\n",
    "    test_data\n",
    "    .padded_batch(32, tf.compat.v1.data.get_output_shapes(train_data)))"
   ]
  },
  {
   "cell_type": "markdown",
   "metadata": {},
   "source": [
    "Xây dựng model"
   ]
  },
  {
   "cell_type": "markdown",
   "metadata": {},
   "source": [
    "Dùng Sequential API với\n",
    "* Embedding layer: với lượng vocabulary là vocab_size được nhúng vào 1 vector 16 dimensions\n",
    "* GlobalAveragePooling1D: trả về 1 vector output có độ dài cố định (16 units) bằng tổng trung bình giá trị trên các dimension\n",
    "* Dense: layer output sử dụng hàm sigmoid để đưa ra đánh giá"
   ]
  },
  {
   "cell_type": "code",
   "execution_count": 29,
   "metadata": {},
   "outputs": [
    {
     "name": "stdout",
     "output_type": "stream",
     "text": [
      "Model: \"sequential_1\"\n",
      "_________________________________________________________________\n",
      "Layer (type)                 Output Shape              Param #   \n",
      "=================================================================\n",
      "embedding (Embedding)        (None, None, 16)          130960    \n",
      "_________________________________________________________________\n",
      "global_average_pooling1d (Gl (None, 16)                0         \n",
      "_________________________________________________________________\n",
      "dense_2 (Dense)              (None, 1)                 17        \n",
      "=================================================================\n",
      "Total params: 130,977\n",
      "Trainable params: 130,977\n",
      "Non-trainable params: 0\n",
      "_________________________________________________________________\n"
     ]
    }
   ],
   "source": [
    "model = keras.Sequential([\n",
    "  keras.layers.Embedding(encoder.vocab_size, 16),\n",
    "  keras.layers.GlobalAveragePooling1D(),\n",
    "  keras.layers.Dense(1, activation='sigmoid')])\n",
    "\n",
    "model.summary()"
   ]
  },
  {
   "cell_type": "markdown",
   "metadata": {},
   "source": [
    "Compile Model"
   ]
  },
  {
   "cell_type": "code",
   "execution_count": 30,
   "metadata": {},
   "outputs": [],
   "source": [
    "model.compile(optimizer='adam',\n",
    "              loss='binary_crossentropy',\n",
    "              metrics=['accuracy'])"
   ]
  },
  {
   "cell_type": "markdown",
   "metadata": {},
   "source": [
    "Train Model"
   ]
  },
  {
   "cell_type": "code",
   "execution_count": 31,
   "metadata": {
    "scrolled": false
   },
   "outputs": [
    {
     "name": "stdout",
     "output_type": "stream",
     "text": [
      "Epoch 1/10\n",
      "782/782 [==============================] - 59s 75ms/step - loss: 0.6844 - accuracy: 0.6152 - val_loss: 0.0000e+00 - val_accuracy: 0.0000e+00\n",
      "Epoch 2/10\n",
      "782/782 [==============================] - 10s 13ms/step - loss: 0.6349 - accuracy: 0.7376 - val_loss: 0.6080 - val_accuracy: 0.7865\n",
      "Epoch 3/10\n",
      "782/782 [==============================] - 10s 12ms/step - loss: 0.5585 - accuracy: 0.7917 - val_loss: 0.5423 - val_accuracy: 0.8125\n",
      "Epoch 4/10\n",
      "782/782 [==============================] - 9s 12ms/step - loss: 0.4904 - accuracy: 0.8294 - val_loss: 0.4880 - val_accuracy: 0.8375\n",
      "Epoch 5/10\n",
      "782/782 [==============================] - 12s 15ms/step - loss: 0.4354 - accuracy: 0.8555 - val_loss: 0.4447 - val_accuracy: 0.8521\n",
      "Epoch 6/10\n",
      "782/782 [==============================] - 10s 13ms/step - loss: 0.3921 - accuracy: 0.8722 - val_loss: 0.4109 - val_accuracy: 0.8573\n",
      "Epoch 7/10\n",
      "782/782 [==============================] - 10s 13ms/step - loss: 0.3584 - accuracy: 0.8820 - val_loss: 0.3846 - val_accuracy: 0.8656\n",
      "Epoch 8/10\n",
      "782/782 [==============================] - 11s 14ms/step - loss: 0.3317 - accuracy: 0.8901 - val_loss: 0.3640 - val_accuracy: 0.8698\n",
      "Epoch 9/10\n",
      "782/782 [==============================] - 10s 13ms/step - loss: 0.3101 - accuracy: 0.8965 - val_loss: 0.3476 - val_accuracy: 0.8760\n",
      "Epoch 10/10\n",
      "782/782 [==============================] - 11s 14ms/step - loss: 0.2921 - accuracy: 0.9007 - val_loss: 0.3343 - val_accuracy: 0.8802\n"
     ]
    }
   ],
   "source": [
    "history = model.fit(train_batches,\n",
    "                    epochs=10,\n",
    "                    validation_data=test_batches,\n",
    "                    validation_steps=30)"
   ]
  },
  {
   "cell_type": "code",
   "execution_count": 32,
   "metadata": {
    "scrolled": true
   },
   "outputs": [
    {
     "name": "stdout",
     "output_type": "stream",
     "text": [
      "    782/Unknown - 15s 20ms/step - loss: 0.3364 - accuracy: 0.8758Loss:  0.33641991754779427\n",
      "Accuracy:  0.87576\n"
     ]
    }
   ],
   "source": [
    "loss, accuracy = model.evaluate(test_batches)\n",
    "\n",
    "print(\"Loss: \", loss)\n",
    "print(\"Accuracy: \", accuracy)"
   ]
  },
  {
   "cell_type": "code",
   "execution_count": 10,
   "metadata": {
    "scrolled": true
   },
   "outputs": [
    {
     "name": "stdout",
     "output_type": "stream",
     "text": [
      "10000/10000 - 0s - loss: 0.3232 - accuracy: 0.8892\n",
      "\n",
      "Test accuracy: 0.8892\n"
     ]
    },
    {
     "data": {
      "text/plain": [
       "9"
      ]
     },
     "execution_count": 10,
     "metadata": {},
     "output_type": "execute_result"
    }
   ],
   "source": [
    "test_loss, test_acc = model.evaluate(test_images,  test_labels, verbose=2)\n",
    "\n",
    "print('\\nTest accuracy:', test_acc)\n",
    "\n",
    "predictions = model.predict(test_images)\n",
    "\n",
    "predictions[0]\n",
    "\n",
    "np.argmax(predictions[0])\n",
    "\n",
    "test_labels[0]"
   ]
  },
  {
   "cell_type": "markdown",
   "metadata": {},
   "source": [
    "# ------------------------------------------------ ------------------------------------------------"
   ]
  },
  {
   "cell_type": "markdown",
   "metadata": {},
   "source": [
    "# Ex5: Overfit and underfit"
   ]
  },
  {
   "cell_type": "markdown",
   "metadata": {},
   "source": [
    "## 1. Hiểu về Overfit\n",
    "Cách đơn giản nhất để biểu diễn overfitting là sử dụng 1 model nhỏ (ít learnable parameters)\n",
    "Trong deep learning, lượng learnable parameters trong mô hình được gọi là model's \"capacity\".\n",
    "\n",
    "Theo trực giác, một mô hình với nhiều parameters hơn thì có \"memorization capacity\" dễ học được ánh xạ hoàn hảo giữa traning data và nhãn,nhưng lại ko có năng lực khái quát hóa,do đó mà suy luận kém với các dữ liệu unseen\n",
    "Deep learning models có xu hướng fitting dữ liệu training data, nhưng cái mình cần là generalization, ko phải fitting.\n",
    "\n",
    "Ngược lại nếu quá ít memorization resources, mạng ko đủ để học ánh xạ. \n",
    "\n",
    "Để tìm kích thước mô hình phù hợp, tốt nhất là bắt đầu với tương đối ít lớp và tham số, sau đó bắt đầu tăng kích thước của các lớp hoặc thêm lớp mới cho đến khi thấy validation loss vẫn giảm. (To find an appropriate model size, it's best to start with relatively few layers and parameters, then begin increasing the size of the layers or adding new layers until you see diminishing returns on the validation loss.)\n"
   ]
  },
  {
   "attachments": {},
   "cell_type": "markdown",
   "metadata": {},
   "source": [
    "### 2. Learning rate schedule\n",
    "Nhiều mô hình training tốt hơn nếu giảm dần learning rate trong quá trình train. \n",
    "\n",
    "Ví dụ\n",
    "https://www.tensorflow.org/api_docs/python/tf/compat/v1/train/inverse_time_decay\n"
   ]
  },
  {
   "cell_type": "code",
   "execution_count": 5,
   "metadata": {},
   "outputs": [],
   "source": [
    "from  IPython import display\n",
    "from matplotlib import pyplot as plt\n",
    "\n",
    "import numpy as np\n",
    "import tensorflow as tf"
   ]
  },
  {
   "cell_type": "code",
   "execution_count": 11,
   "metadata": {},
   "outputs": [],
   "source": [
    "N_VALIDATION = int(1e3)\n",
    "N_TRAIN = int(1e4)\n",
    "BUFFER_SIZE = int(1e4)\n",
    "BATCH_SIZE = 500 # sau bao nhiêu điểm dữ liệu thì cập nhật weights\n",
    "STEPS_PER_EPOCH = N_TRAIN//BATCH_SIZE # hết 1 epochs (duyệt hết tập training) \n",
    "\n",
    "lr_schedule = tf.keras.optimizers.schedules.InverseTimeDecay(\n",
    "  0.001, # learning_rate\n",
    "  decay_steps=STEPS_PER_EPOCH*1000, # step to lower learning_rate\n",
    "  decay_rate=1,\n",
    "  staircase=False)\n",
    "\n",
    "def get_optimizer():\n",
    "  return tf.keras.optimizers.Adam(lr_schedule)"
   ]
  },
  {
   "attachments": {
    "image.png": {
     "image/png": "[encoded data removed]"
    }
   },
   "cell_type": "markdown",
   "metadata": {},
   "source": [
    "**Công thức cập nhật**\n",
    "![image.png](attachment:image.png)"
   ]
  },
  {
   "cell_type": "code",
   "execution_count": 12,
   "metadata": {},
   "outputs": [
    {
     "data": {
      "image/png": "[encoded data removed]",
      "text/plain": [
       "<Figure size 576x432 with 1 Axes>"
      ]
     },
     "metadata": {
      "needs_background": "light"
     },
     "output_type": "display_data"
    }
   ],
   "source": [
    "# Gán global_step để demo trên biểu đồ\n",
    "step = np.linspace(0,100000)\n",
    "lr = lr_schedule(step)\n",
    "\n",
    "plt.figure(figsize = (8,6))\n",
    "plt.plot(step/STEPS_PER_EPOCH, lr)\n",
    "plt.ylim([0,max(plt.ylim())])\n",
    "plt.xlabel('Epoch')\n",
    "_ = plt.ylabel('Learning Rate')"
   ]
  },
  {
   "attachments": {
    "image.png": {
     "image/png": "[encoded data removed]"
    }
   },
   "cell_type": "markdown",
   "metadata": {},
   "source": [
    "### 3.Early Stopping\n",
    "![image.png](attachment:image.png)"
   ]
  },
  {
   "cell_type": "markdown",
   "metadata": {},
   "source": [
    "Định nghĩa 1 số cái log ra console trong quá trình train\n",
    "Dùng `callbacks.TensorBoard` to generate TensorBoard logs for the training.\n",
    "Gọi các callbacks này khi fit models\n",
    "\n",
    "Thêm `callbacks.EarlyStopping` để tránh traing quá nhiều lần và ko cái thiện được hiệu suất"
   ]
  },
  {
   "cell_type": "code",
   "execution_count": 18,
   "metadata": {},
   "outputs": [],
   "source": [
    "def get_callbacks(name):\n",
    "  return [\n",
    "    tfdocs.modeling.EpochDots(), # . mỗi khi kết thúc epochs\n",
    "    tf.keras.callbacks.EarlyStopping(monitor='val_binary_crossentropy', patience=200), \n",
    "    # 200 epochs mà ko cải thiện\n",
    "    tf.keras.callbacks.TensorBoard(logdir/name), # tạo log\n",
    "  ]"
   ]
  },
  {
   "cell_type": "code",
   "execution_count": 14,
   "metadata": {},
   "outputs": [],
   "source": [
    "def compile_and_fit(model, name, optimizer=None, max_epochs=10000):\n",
    "  if optimizer is None:\n",
    "    optimizer = get_optimizer()\n",
    "  model.compile(optimizer=optimizer,\n",
    "                loss='binary_crossentropy',\n",
    "                metrics=['accuracy', 'binary_crossentropy'])\n",
    "\n",
    "  model.summary()\n",
    "\n",
    "  history = model.fit(\n",
    "    train_ds,\n",
    "    steps_per_epoch = STEPS_PER_EPOCH,\n",
    "    epochs=max_epochs,\n",
    "    validation_data=validate_ds,\n",
    "    callbacks=get_callbacks(name),\n",
    "    verbose=0)\n",
    "  return history"
   ]
  },
  {
   "cell_type": "markdown",
   "metadata": {},
   "source": [
    "### 4. Overfit"
   ]
  },
  {
   "attachments": {},
   "cell_type": "markdown",
   "metadata": {},
   "source": [
    "Cross-entropy loss, or log loss, tính toán hiệu suất của mô hình phân loại, cho đầu ra là 1 xác suất giá trị từ 0->1 \n",
    "Cross-entropy loss tăng nếu như xác suất dự đoán lệnh với ground-truth (increases as the predicted probability diverges from the actual label). So predicting a probability of .012 when the actual observation label is 1 would be bad and result in a high loss value. \n",
    "\n",
    "Một model hoàn hảo sẽ có log loss tiệm cận 0.\n",
    "\n",
    "Log cho các lần training với các mô hình từ đơn giản đến phức tạp\n",
    "<img src=\"images/image11.png\">"
   ]
  },
  {
   "cell_type": "markdown",
   "metadata": {},
   "source": [
    "Quan sát, mô hình medium và large có \"binary cross entropy\" lệnh hoàn toàn so với tập train.\n",
    "Model fit với tập traing tới mức train_loss giảm về 0.\n",
    "\n",
    "Hay có thể gọi là hiện tượng overfitting\n",
    "- Với medium model, overfit xảy ra từ epochs 80 \n",
    "- Với large model, overfit xảy ra sớm hơn từ epochs 55 "
   ]
  },
  {
   "cell_type": "markdown",
   "metadata": {},
   "source": [
    "### 5. Ngăn chặn Overfit"
   ]
  },
  {
   "attachments": {
    "image.png": {
     "image/png": "[encoded data removed]"
    }
   },
   "cell_type": "markdown",
   "metadata": {},
   "source": [
    "####  5.1 Regularization l1, l2 \n",
    "Kỹ thuật regularization phổ biến nhất là thêm vào hàm mất mát một số hạng nữa. \n",
    "\n",
    "![image.png](attachment:image.png)\n",
    "Việc tối ưu hàm mất mát khi đó đồng nghĩa với việc tối thiểu cả loss function và số hạng regularization.\n",
    "Khi lambda càng lớn, phần regularization càng trở nên quan trọng hơn so với phần loss chính, vì vậy thuật toán sẽ cố gắng làm tối thiểu phần regularization, giúp cho các hệ số w không được quá lớn.\n",
    "\n",
    "Có 2 biểu thức regularization phổ biến đc thêm vào, ứng với L1 và L2.\n",
    "- L2 giúp cho các hệ số nhỏ, không được quá lớn. \n",
    "- L1 giúp cho hầu hết các hệ số bằng 0.\n",
    "\n",
    "Lưu ý khi thêm số hạng regularization: λ thường được chọn là một số nhỏ để biểu thức regularization không làm giảm quá nhiều chất lượng của nghiệm."
   ]
  },
  {
   "cell_type": "code",
   "execution_count": null,
   "metadata": {},
   "outputs": [],
   "source": [
    "l2_model = tf.keras.Sequential([\n",
    "    layers.Dense(512, activation='elu',\n",
    "                 kernel_regularizer=regularizers.l2(0.001),\n",
    "                 input_shape=(FEATURES,)),\n",
    "    layers.Dense(512, activation='elu',\n",
    "                 kernel_regularizer=regularizers.l2(0.001)),\n",
    "    layers.Dense(512, activation='elu',\n",
    "                 kernel_regularizer=regularizers.l2(0.001)),\n",
    "    layers.Dense(512, activation='elu',\n",
    "                 kernel_regularizer=regularizers.l2(0.001)),\n",
    "    layers.Dense(1, activation='sigmoid')\n",
    "])\n",
    "# l2(0.001) means that every coefficient in the weight matrix of the layer will \n",
    "# add 0.001 * weight_coefficient_value**2 to the total loss of the network."
   ]
  },
  {
   "attachments": {},
   "cell_type": "markdown",
   "metadata": {},
   "source": [
    "Với hệ số lamda: 0.001\n",
    "\n",
    "<img src=\"images/image12.png\">"
   ]
  },
  {
   "attachments": {},
   "cell_type": "markdown",
   "metadata": {},
   "source": [
    "Với hệ số lamda: 0.002\n",
    "<img src=\"images/image13.png\">"
   ]
  },
  {
   "cell_type": "markdown",
   "metadata": {},
   "source": [
    "Với hệ số regularization nhỏ, loss ko bị ảnh hướng quá nặng, train loss giảm xuống nhiều nhưng test thực tế  l2 val lại kém (lamda=0.001). Mô hình vẫn hơi bị overfit.\n",
    "\n",
    "Với hệ số regularization lamda=0.002 thì train_loss và val_loss tương đồng nhau hơn. "
   ]
  },
  {
   "attachments": {},
   "cell_type": "markdown",
   "metadata": {},
   "source": [
    "####  5.2 Add dropout"
   ]
  },
  {
   "cell_type": "code",
   "execution_count": null,
   "metadata": {},
   "outputs": [],
   "source": [
    "from tensorflow.keras import regularizers\n",
    "\n",
    "combined_model = tf.keras.Sequential([\n",
    "    layers.Dense(512, kernel_regularizer=regularizers.l2(0.0001),\n",
    "                 activation='elu', input_shape=(FEATURES,)),\n",
    "    layers.Dropout(0.5), # drop 1 nửa số output features của layer\n",
    "    layers.Dense(512, kernel_regularizer=regularizers.l2(0.0001),\n",
    "                 activation='elu'),\n",
    "    layers.Dropout(0.5),\n",
    "    layers.Dense(512, kernel_regularizer=regularizers.l2(0.0001),\n",
    "                 activation='elu'),\n",
    "    layers.Dropout(0.5),\n",
    "    layers.Dense(512, kernel_regularizer=regularizers.l2(0.0001),\n",
    "                 activation='elu'),\n",
    "    layers.Dropout(0.5),\n",
    "    layers.Dense(1, activation='sigmoid')\n",
    "])\n",
    "\n",
    "regularizer_histories['combined'] = compile_and_fit(combined_model, \"regularizers/combined\")"
   ]
  },
  {
   "cell_type": "markdown",
   "metadata": {},
   "source": [
    "Dropout, ứng dụng vào từng layer, consists of randomly \"dropping out\" (i.e. set to zero) set 1 số output features của layer về 0 trong quá trình training. Xét ví dụ layer trả về [0.2, 0.5, 1.3, 0.8, 1.1] for a given input sample during training; Khi áp dụng dropout, vector sẽ có vài mục ngẫu nhiên bị set về 0, chẳng hạn. [0, 0.5, 1.3, 0, 1.1].\n",
    "\n",
    "(The intuitive explanation for dropout is that because individual nodes in the network cannot rely on the output of the others, each node must output features that are useful on their own.)"
   ]
  },
  {
   "attachments": {},
   "cell_type": "markdown",
   "metadata": {},
   "source": [
    "<img src=\"images/image14.png\">"
   ]
  },
  {
   "cell_type": "markdown",
   "metadata": {},
   "source": [
    "Lưu ý khi sử dụng layer dropout: nên lựa chọn hệ số dropout khoảng 0.5, nếu hơn có thể làm giảm hiệu suất mô hình"
   ]
  },
  {
   "cell_type": "markdown",
   "metadata": {},
   "source": [
    "#### 5.3 Kết hợp Regularizer và Add dropout layer"
   ]
  },
  {
   "cell_type": "code",
   "execution_count": null,
   "metadata": {},
   "outputs": [],
   "source": [
    "combined_model = tf.keras.Sequential([\n",
    "    layers.Dense(512, kernel_regularizer=regularizers.l2(0.0001),\n",
    "                 activation='elu', input_shape=(FEATURES,)),\n",
    "    layers.Dropout(0.5),\n",
    "    layers.Dense(512, kernel_regularizer=regularizers.l2(0.0001),\n",
    "                 activation='elu'),\n",
    "    layers.Dropout(0.5),\n",
    "    layers.Dense(512, kernel_regularizer=regularizers.l2(0.0001),\n",
    "                 activation='elu'),\n",
    "    layers.Dropout(0.5),\n",
    "    layers.Dense(512, kernel_regularizer=regularizers.l2(0.0001),\n",
    "                 activation='elu'),\n",
    "    layers.Dropout(0.5),\n",
    "    layers.Dense(1, activation='sigmoid')\n",
    "])\n",
    "\n",
    "regularizer_histories['combined'] = compile_and_fit(combined_model, \"regularizers/combined\")"
   ]
  },
  {
   "attachments": {},
   "cell_type": "markdown",
   "metadata": {},
   "source": [
    "<img src=\"images/image15.png\">"
   ]
  },
  {
   "cell_type": "markdown",
   "metadata": {},
   "source": [
    "# Ex6: Save and load models"
   ]
  },
  {
   "cell_type": "markdown",
   "metadata": {},
   "source": [
    "Có thể lưu checkpoints trong quá trình training\n",
    "\n",
    "Tạo 1 **tf.keras.callbacks.ModelCheckpoint** callback để lưu weights"
   ]
  },
  {
   "cell_type": "code",
   "execution_count": null,
   "metadata": {},
   "outputs": [],
   "source": [
    "checkpoint_path = \"training_1/cp.ckpt\"\n",
    "checkpoint_dir = os.path.dirname(checkpoint_path)\n",
    "\n",
    "# Create a callback that saves the model's weights\n",
    "cp_callback = tf.keras.callbacks.ModelCheckpoint(filepath=checkpoint_path,\n",
    "                                                 save_weights_only=True,\n",
    "                                                 verbose=1)\n",
    "\n",
    "# Train the model with the new callback\n",
    "model.fit(train_images, \n",
    "          train_labels,  \n",
    "          epochs=10,\n",
    "          validation_data=(test_images,test_labels),\n",
    "          callbacks=[cp_callback])  # Pass callback to training\n",
    "\n",
    "# This may generate warnings related to saving the state of the optimizer.\n",
    "# These warnings (and similar warnings throughout this notebook)\n",
    "# are in place to discourage outdated usage, and can be ignored."
   ]
  }
 ],
 "metadata": {
  "kernelspec": {
   "display_name": "Python 3",
   "language": "python",
   "name": "python3"
  },
  "language_info": {
   "codemirror_mode": {
    "name": "ipython",
    "version": 3
   },
   "file_extension": ".py",
   "mimetype": "text/x-python",
   "name": "python",
   "nbconvert_exporter": "python",
   "pygments_lexer": "ipython3",
   "version": "3.6.8"
  }
 },
 "nbformat": 4,
 "nbformat_minor": 2
}
